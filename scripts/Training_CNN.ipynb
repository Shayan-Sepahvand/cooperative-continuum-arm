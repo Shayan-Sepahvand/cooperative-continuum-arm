{
 "cells": [
  {
   "cell_type": "markdown",
   "metadata": {},
   "source": [
    "Import the required modules"
   ]
  },
  {
   "cell_type": "code",
   "execution_count": null,
   "metadata": {},
   "outputs": [],
   "source": [
    "import numpy as np\n",
    "import tensorflow as tf\n",
    "import matplotlib.pyplot as plt\n",
    "import os\n",
    "import PIL\n",
    "import PIL.Image\n",
    "import json"
   ]
  },
  {
   "cell_type": "code",
   "execution_count": null,
   "metadata": {},
   "outputs": [],
   "source": [
    "def load_angles_from_folder(directory):\n",
    "    with open(directory,'r')  as ff:\n",
    "        content = ff.readline()\n",
    "        angles = content.split(sep='\\t') #lines are separated by tabs\n",
    "        angles = np.asarray(angles, dtype = np.float32) * (np.pi/180)\n",
    "        return angles"
   ]
  },
  {
   "cell_type": "code",
   "execution_count": null,
   "metadata": {},
   "outputs": [],
   "source": [
    "def load_images_from_folder(directory):\n",
    "    images = []\n",
    "    fileslist = os.listdir(directory)\n",
    "    fileslist = sorted(fileslist , key = lambda fileslist: int(fileslist.split('.')[0]))\n",
    "    #key=lambda x: int(x.split('_')[1]\n",
    "    for filename in fileslist:\n",
    "        #img = cv.imread(os.path.join(directory,filename))\n",
    "        loc = os.path.join(directory,filename)\n",
    "        img = tf.keras.preprocessing.image.load_img(loc, target_size=(300, 300), interpolation = 'nearest')\n",
    "        img = tf.keras.preprocessing.image.img_to_array(img) / 255.0\n",
    "        if img is not None:\n",
    "            images.append(img)\n",
    "    return np.asarray(images)"
   ]
  },
  {
   "cell_type": "code",
   "execution_count": null,
   "metadata": {},
   "outputs": [],
   "source": [
    "directory_imgs = './Dataset/imgs/'\n",
    "directory_angles = './Dataset/Labels.txt'\n",
    "imgs = load_images_from_folder(directory_imgs)\n",
    "angles = load_angles_from_folder(directory_angles)\n",
    "plt.imshow(imgs[240])\n",
    "print(angles[240])"
   ]
  },
  {
   "cell_type": "markdown",
   "metadata": {},
   "source": [
    "Defining the Convolutional Neural Network"
   ]
  },
  {
   "cell_type": "code",
   "execution_count": null,
   "metadata": {},
   "outputs": [],
   "source": [
    "base_model = tf.keras.applications.vgg16.VGG16(weights='imagenet', include_top = False, input_shape = (300,300,3))\n",
    "base_model.trainable = False\n",
    "X = base_model.layers[-5].output\n",
    "X = tf.keras.layers.Flatten()(X)\n",
    "X = tf.keras.layers.Dense(1, 'linear', use_bias=True)(X)\n",
    "model = tf.keras.Model(base_model.input, X)\n",
    "opt = tf.keras.optimizers.Adam(learning_rate = 1e-6)\n",
    "lossfunction = tf.keras.losses.MeanSquaredError()\n",
    "model.summary()"
   ]
  },
  {
   "cell_type": "markdown",
   "metadata": {},
   "source": [
    "Compile the model"
   ]
  },
  {
   "cell_type": "code",
   "execution_count": null,
   "metadata": {},
   "outputs": [],
   "source": [
    "model.compile(optimizer = opt, loss = lossfunction, metrics = ['MeanAbsoluteError'])"
   ]
  },
  {
   "cell_type": "markdown",
   "metadata": {},
   "source": [
    "Train and Save the model"
   ]
  },
  {
   "cell_type": "code",
   "execution_count": null,
   "metadata": {},
   "outputs": [],
   "source": [
    "history = model.fit(imgs[:900],angles[:900], batch_size = 16,epochs = 150)"
   ]
  },
  {
   "cell_type": "markdown",
   "metadata": {},
   "source": [
    "Save the model for test (Training takes time)"
   ]
  },
  {
   "cell_type": "code",
   "execution_count": null,
   "metadata": {},
   "outputs": [],
   "source": [
    "model.save('./TrainedCNNs/for_test', save_format = 'h5' )"
   ]
  },
  {
   "cell_type": "markdown",
   "metadata": {},
   "source": [
    "Store the history of training in a json file"
   ]
  },
  {
   "cell_type": "code",
   "execution_count": null,
   "metadata": {},
   "outputs": [],
   "source": [
    "# Save the history to a JSON file\n",
    "history_dict = history.history\n",
    "\n",
    "# Specify the file path\n",
    "file_path = './Training_History_Files/for_test.json'\n",
    "\n",
    "# Convert the dictionary to a JSON string and save it to the file\n",
    "with open(file_path, 'w') as json_file:\n",
    "    json.dump(history_dict, json_file)\n",
    "\n",
    "print(f\"Training history saved to {file_path}\")\n"
   ]
  },
  {
   "cell_type": "markdown",
   "metadata": {},
   "source": [
    "Load the training results"
   ]
  },
  {
   "cell_type": "code",
   "execution_count": null,
   "metadata": {},
   "outputs": [],
   "source": [
    "file_path = './Training_History_Files/for_test.json'\n",
    "history_dict = json.load(open(file_path, 'r'))"
   ]
  },
  {
   "cell_type": "markdown",
   "metadata": {},
   "source": [
    "Plot the training curves"
   ]
  },
  {
   "cell_type": "code",
   "execution_count": null,
   "metadata": {},
   "outputs": [],
   "source": [
    "font = {'weight' : 'bold',\n",
    "        'size'   : 12}\n",
    "plt.rc ('font', **font)\n",
    "\n",
    "\n",
    "figure1 = plt.figure(figsize=(5,5))\n",
    "RootMeanSquareError =np.array(history_dict['loss'])\n",
    "SampleNo = np.arange(1,len(RootMeanSquareError) + 1)\n",
    "\n",
    "\n",
    "\n",
    "plt.plot(SampleNo,RootMeanSquareError , color = 'blue')\n",
    "plt.xlabel('Epochs' , fontsize = 12 , weight='bold')\n",
    "plt.ylabel(r'MSE (rad$^2$)' , fontsize = 12 , weight='bold')\n",
    "plt.ticklabel_format(style='sci', axis='y', scilimits=(0,0))\n",
    "plt.savefig('./Results_Paper/mse_for_test.eps', format='eps')\n",
    "figure2 = plt.figure(figsize=(5,5))\n",
    "MeanAbsError = history_dict['mean_absolute_error']\n",
    "\n",
    "\n",
    "plt.plot(SampleNo,MeanAbsError , color = 'blue')\n",
    "plt.xlabel('Epochs' , fontsize = 12 , weight='bold')\n",
    "plt.ylabel('MAE (rad)' , fontsize = 12 , weight='bold')\n",
    "plt.savefig('./Results_Paper/mae_for_test.eps', format='eps')"
   ]
  },
  {
   "cell_type": "code",
   "execution_count": null,
   "metadata": {},
   "outputs": [],
   "source": []
  }
 ],
 "metadata": {
  "kernelspec": {
   "display_name": "Python 3",
   "language": "python",
   "name": "python3"
  },
  "language_info": {
   "codemirror_mode": {
    "name": "ipython",
    "version": 3
   },
   "file_extension": ".py",
   "mimetype": "text/x-python",
   "name": "python",
   "nbconvert_exporter": "python",
   "pygments_lexer": "ipython3",
   "version": "3.8.10"
  }
 },
 "nbformat": 4,
 "nbformat_minor": 2
}
