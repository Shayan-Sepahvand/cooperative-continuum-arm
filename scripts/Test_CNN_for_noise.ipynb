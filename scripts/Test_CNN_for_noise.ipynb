{
 "cells": [
  {
   "cell_type": "code",
   "execution_count": 1,
   "metadata": {},
   "outputs": [
    {
     "name": "stderr",
     "output_type": "stream",
     "text": [
      "2024-01-18 20:21:38.058574: I tensorflow/core/util/port.cc:110] oneDNN custom operations are on. You may see slightly different numerical results due to floating-point round-off errors from different computation orders. To turn them off, set the environment variable `TF_ENABLE_ONEDNN_OPTS=0`.\n",
      "2024-01-18 20:21:38.086277: I tensorflow/core/platform/cpu_feature_guard.cc:182] This TensorFlow binary is optimized to use available CPU instructions in performance-critical operations.\n",
      "To enable the following instructions: AVX2 AVX_VNNI FMA, in other operations, rebuild TensorFlow with the appropriate compiler flags.\n"
     ]
    }
   ],
   "source": [
    "\"\"\"\n",
    "Developed by Shayan Sepahvand, December 2023, Toronto Met. Univ.\n",
    "\"\"\"\n",
    "import numpy as np\n",
    "import tensorflow as tf\n",
    "import matplotlib.pyplot as plt\n",
    "import os\n",
    "import PIL.Image"
   ]
  },
  {
   "cell_type": "markdown",
   "metadata": {},
   "source": [
    "Load the images"
   ]
  },
  {
   "cell_type": "code",
   "execution_count": 2,
   "metadata": {},
   "outputs": [],
   "source": [
    "def load_images_from_folder(directory):\n",
    "    images = []\n",
    "    fileslist = os.listdir(directory)\n",
    "    fileslist = sorted(fileslist , key = lambda fileslist: int(fileslist.split('.')[0]))\n",
    "    for filename in fileslist:\n",
    "        #img = cv.imread(os.path.join(directory,filename))\n",
    "        loc = os.path.join(directory,filename)\n",
    "        img = tf.keras.preprocessing.image.load_img(loc, target_size=(300, 300))\n",
    "        img = tf.keras.preprocessing.image.img_to_array(img) / 255.0\n",
    "        if img is not None:\n",
    "            images.append(img)\n",
    "    return np.asarray(images)"
   ]
  },
  {
   "cell_type": "markdown",
   "metadata": {},
   "source": [
    "Load the angles (labels)"
   ]
  },
  {
   "cell_type": "code",
   "execution_count": 3,
   "metadata": {},
   "outputs": [],
   "source": [
    "def load_angles_from_folder(directory):\n",
    "    with open(directory,'r')  as ff:\n",
    "        content = ff.readline()\n",
    "        angles = content.split(sep='\\t') #lines are separated by tabs\n",
    "        angles = np.asarray(angles, dtype = np.float32) * (np.pi/180)\n",
    "        return angles"
   ]
  },
  {
   "cell_type": "markdown",
   "metadata": {},
   "source": [
    "Load the images and angles"
   ]
  },
  {
   "cell_type": "code",
   "execution_count": 4,
   "metadata": {},
   "outputs": [],
   "source": [
    "directory_imgs = './gauss/'\n",
    "directory_angles = './Dataset/Labels.txt'\n",
    "imgs = load_images_from_folder(directory_imgs)\n",
    "angles = load_angles_from_folder(directory_angles)"
   ]
  },
  {
   "cell_type": "markdown",
   "metadata": {},
   "source": [
    "Define the Testing Datasets"
   ]
  },
  {
   "cell_type": "code",
   "execution_count": 5,
   "metadata": {},
   "outputs": [],
   "source": [
    "testing_imgs = imgs[900:]\n",
    "testing_angles = angles[900:]"
   ]
  },
  {
   "cell_type": "markdown",
   "metadata": {},
   "source": [
    "Load the trained CNN"
   ]
  },
  {
   "cell_type": "code",
   "execution_count": 8,
   "metadata": {},
   "outputs": [],
   "source": [
    "model = tf.keras.models.load_model('./TrainedCNNs/for_test_guass_400epochs')\n",
    "# model.summary() \n",
    "# model.get_config()"
   ]
  },
  {
   "cell_type": "markdown",
   "metadata": {},
   "source": [
    "Evaluate the model for test dataset"
   ]
  },
  {
   "cell_type": "code",
   "execution_count": 9,
   "metadata": {},
   "outputs": [
    {
     "name": "stdout",
     "output_type": "stream",
     "text": [
      "7/7 [==============================] - 1s 69ms/step - loss: 0.0981 - mean_absolute_error: 0.2642\n"
     ]
    }
   ],
   "source": [
    "loss = model.evaluate(testing_imgs , testing_angles, batch_size = 16)"
   ]
  },
  {
   "cell_type": "markdown",
   "metadata": {},
   "source": [
    "Tries to load several image from the test dataset and determine the estimated angle versus the real angle"
   ]
  },
  {
   "cell_type": "code",
   "execution_count": null,
   "metadata": {},
   "outputs": [],
   "source": [
    "def return_estimated_angles():\n",
    "    predicted_angles_list = []\n",
    "    for testimage in testing_imgs:\n",
    "        test_img = np.expand_dims(testimage , axis = 0)\n",
    "        predicted_angles = model.predict(test_img , verbose = 0)\n",
    "        predicted_angles_list.append(predicted_angles)\n",
    "\n",
    "\n",
    "    return np.array(predicted_angles_list)"
   ]
  },
  {
   "cell_type": "markdown",
   "metadata": {},
   "source": [
    "Let's plot the estimated angles vs real angles"
   ]
  },
  {
   "cell_type": "code",
   "execution_count": null,
   "metadata": {},
   "outputs": [],
   "source": [
    "predicted_angles = return_estimated_angles()\n",
    "predicted_angles = np.ndarray.flatten(predicted_angles)"
   ]
  },
  {
   "cell_type": "code",
   "execution_count": null,
   "metadata": {},
   "outputs": [],
   "source": [
    "SampleNo = np.arange(1,len(testing_angles) + 1)\n",
    "# Create a scatter plot for the first set of data (blue color)\n",
    "plt.stem(SampleNo , predicted_angles, markerfmt='ro' , linefmt = '--')\n",
    "\n",
    "# Create a scatter plot for the second set of data (red color)\n",
    "plt.stem(SampleNo, testing_angles, markerfmt='bs' , linefmt = '--')\n",
    "\n",
    "\n",
    "# Add labels and a legend\n",
    "plt.xlabel('Sample Number')\n",
    "plt.ylabel('Angle (rad)')\n",
    "plt.legend(['Predicted Angles', 'Measured Angles'])\n",
    "plt.title('Prediction Result for the Test Data')\n",
    "plt.grid(visible=True)\n",
    "plt.ylim((-5,5))\n",
    "plt.xlim((0,100))\n",
    "\n",
    "# Show the plot\n",
    "plt.show()\n"
   ]
  },
  {
   "cell_type": "markdown",
   "metadata": {},
   "source": [
    "Scatter Plot"
   ]
  },
  {
   "cell_type": "code",
   "execution_count": null,
   "metadata": {},
   "outputs": [],
   "source": [
    "plt.scatter(SampleNo, predicted_angles, c = 'blue', marker= 'x')\n",
    "plt.scatter(SampleNo, testing_angles, c = 'red', marker= 'o', alpha=0.7)\n",
    "plt.xlabel('Sample Number')\n",
    "plt.ylabel('Angle (rad)')\n",
    "plt.legend(['Predicted Angles', 'Measured Angles'])\n",
    "plt.title('Prediction Result for the Test Data')\n",
    "plt.grid(visible=True)\n",
    "plt.ylim((-5,5))\n",
    "plt.xlim((0,100))\n",
    "#plt.savefig('./Results_Paper/figures/scatter_dark.eps', format='eps')"
   ]
  },
  {
   "cell_type": "markdown",
   "metadata": {},
   "source": [
    "Error Plot"
   ]
  },
  {
   "cell_type": "code",
   "execution_count": null,
   "metadata": {},
   "outputs": [],
   "source": [
    "predition_error = (predicted_angles - testing_angles)\n",
    "print(np.mean(abs(predition_error)))\n",
    "print(np.max(abs(predition_error)))\n",
    "print(np.min(abs(predition_error)))\n",
    "font = {'weight' : 'bold',\n",
    "        'size'   : 12}\n",
    "plt.rc ('font', **font)\n",
    "plt.stem(SampleNo , predition_error , markerfmt='ro' )\n",
    "predition_error_abs = abs(predicted_angles - testing_angles)\n",
    "MaxError = np.max(predition_error_abs) * np.ones(shape=(len(predition_error),))\n",
    "plt.plot(SampleNo,   MaxError , color = 'pink')\n",
    "MeanError = np.mean(predition_error_abs) * np.ones(shape=(len(predition_error),))\n",
    "plt.plot(SampleNo,   MeanError , color = 'green')\n",
    "plt.xlabel('Sample Number')\n",
    "plt.ylabel('Predition Error (rad)')\n",
    "#plt.legend(['Predicted Angles', 'Measured Angles'])\n",
    "plt.title('Prediction Error for the Test Data')\n",
    "plt.grid(visible = False)\n",
    "plt.ylim((-2.1,2.2))\n",
    "plt.xlim((0,100))\n",
    "plt.legend(['Max Absolute Error', 'Mean Absolute Error', 'Prediction Error Angles'], loc = 'upper right')\n",
    "#plt.savefig('./Results_Paper/figures/Prediction_Error_dark.eps', format='eps')"
   ]
  },
  {
   "cell_type": "markdown",
   "metadata": {},
   "source": [
    "Save the absolute value of the error"
   ]
  },
  {
   "cell_type": "code",
   "execution_count": null,
   "metadata": {},
   "outputs": [],
   "source": [
    "#np.save('./absolute_error/dark_error.npy', predition_error_abs)"
   ]
  },
  {
   "cell_type": "code",
   "execution_count": null,
   "metadata": {},
   "outputs": [],
   "source": []
  }
 ],
 "metadata": {
  "kernelspec": {
   "display_name": "Python 3",
   "language": "python",
   "name": "python3"
  },
  "language_info": {
   "codemirror_mode": {
    "name": "ipython",
    "version": 3
   },
   "file_extension": ".py",
   "mimetype": "text/x-python",
   "name": "python",
   "nbconvert_exporter": "python",
   "pygments_lexer": "ipython3",
   "version": "3.8.10"
  }
 },
 "nbformat": 4,
 "nbformat_minor": 2
}
